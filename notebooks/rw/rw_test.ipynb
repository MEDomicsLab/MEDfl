{
 "cells": [
  {
   "cell_type": "code",
   "execution_count": 1,
   "id": "5604d79e",
   "metadata": {},
   "outputs": [],
   "source": [
    "from MEDfl.rw.server import FederatedServer, Strategy\n"
   ]
  },
  {
   "cell_type": "code",
   "execution_count": 1,
   "id": "aae63e68",
   "metadata": {},
   "outputs": [],
   "source": [
    "import sys\n",
    "sys.path.append('../..')\n",
    "\n",
    "import os\n",
    "os.environ['PYTHONPATH'] = '../..'"
   ]
  },
  {
   "cell_type": "code",
   "execution_count": null,
   "id": "2476759d",
   "metadata": {},
   "outputs": [
    {
     "name": "stderr",
     "output_type": "stream",
     "text": [
      "\u001b[93mWARNING \u001b[0m:   DEPRECATED FEATURE: flwr.server.start_server() is deprecated.\n",
      "\tInstead, use the `flower-superlink` CLI command to start a SuperLink as shown below:\n",
      "\n",
      "\t\t$ flower-superlink --insecure\n",
      "\n",
      "\tTo view usage and all available options, run:\n",
      "\n",
      "\t\t$ flower-superlink --help\n",
      "\n",
      "\tUsing `start_server()` is deprecated.\n",
      "\n",
      "            This is a deprecated feature. It will be removed\n",
      "            entirely in future versions of Flower.\n",
      "        \n",
      "\u001b[92mINFO \u001b[0m:      Starting Flower server, config: num_rounds=5, no round_timeout\n",
      "\u001b[92mINFO \u001b[0m:      Flower ECE: gRPC server running (5 rounds), SSL is disabled\n",
      "\u001b[92mINFO \u001b[0m:      [INIT]\n",
      "\u001b[92mINFO \u001b[0m:      Requesting initial parameters from one random client\n"
     ]
    },
    {
     "name": "stdout",
     "output_type": "stream",
     "text": [
      "Using strategy: FedAvg\n",
      "Starting Flower server on 0.0.0.0:8080 with strategy FedAvg\n"
     ]
    },
    {
     "name": "stderr",
     "output_type": "stream",
     "text": [
      "\u001b[92mINFO \u001b[0m:      Received initial parameters from one random client\n",
      "\u001b[92mINFO \u001b[0m:      Starting evaluation of initial global parameters\n",
      "\u001b[92mINFO \u001b[0m:      Evaluation returned no results (`None`)\n",
      "\u001b[92mINFO \u001b[0m:      \n",
      "\u001b[92mINFO \u001b[0m:      [ROUND 1]\n"
     ]
    },
    {
     "name": "stdout",
     "output_type": "stream",
     "text": [
      "✅ Client connected - CID: f1c09f2d730c479689f66f24dd922fbc\n"
     ]
    },
    {
     "name": "stderr",
     "output_type": "stream",
     "text": [
      "\u001b[92mINFO \u001b[0m:      configure_fit: strategy sampled 2 clients (out of 2)\n",
      "\u001b[92mINFO \u001b[0m:      aggregate_fit: received 2 results and 0 failures\n",
      "\u001b[92mINFO \u001b[0m:      configure_evaluate: strategy sampled 2 clients (out of 2)\n",
      "\u001b[92mINFO \u001b[0m:      aggregate_evaluate: received 2 results and 0 failures\n",
      "\u001b[92mINFO \u001b[0m:      \n",
      "\u001b[92mINFO \u001b[0m:      [ROUND 2]\n",
      "\u001b[92mINFO \u001b[0m:      configure_fit: strategy sampled 2 clients (out of 2)\n",
      "\u001b[92mINFO \u001b[0m:      aggregate_fit: received 2 results and 0 failures\n",
      "\u001b[92mINFO \u001b[0m:      configure_evaluate: strategy sampled 2 clients (out of 2)\n"
     ]
    },
    {
     "name": "stdout",
     "output_type": "stream",
     "text": [
      "✅ Client connected - CID: 0eba60b3351e4a85bd2bd7362f31dc53\n",
      "\n",
      "[Server] 🔄 Round 1 - Client Training Metrics:\n",
      "  Client f1c09f2d730c479689f66f24dd922fbc: {'train_auc': 0.5, 'hostname': 'dinf-medomi-05b', 'train_loss': 0.8140556282467313, 'train_accuracy': 0.3333333333333333}\n",
      "  Client 0eba60b3351e4a85bd2bd7362f31dc53: {'train_auc': 0.5, 'hostname': 'dinf-medomi-05b', 'train_loss': 0.8187825869630885, 'train_accuracy': 0.3333333333333333}\n",
      "[Server] ✅ Round 1 - Aggregated Training Metrics: {'train_loss': 0.8164191076049099, 'train_accuracy': 0.3333333333333333, 'train_auc': 0.5}\n",
      "\n",
      "\n",
      "[Server] 📊 Round 1 - Client Evaluation Metrics:\n",
      "  Client f1c09f2d730c479689f66f24dd922fbc: {'eval_auc': 0.5, 'eval_accuracy': 0.3333333333333333, 'eval_loss': 0.7523354212443034}\n",
      "  Client 0eba60b3351e4a85bd2bd7362f31dc53: {'eval_auc': 0.5, 'eval_accuracy': 0.3333333333333333, 'eval_loss': 0.752335403142152}\n",
      "[Server] ✅ Round 1 - Aggregated Evaluation Metrics:\n",
      "  Loss: 0.7523354291915894, Metrics: {'eval_loss': 0.7523354121932277, 'eval_accuracy': 0.3333333333333333, 'eval_auc': 0.5}\n",
      "\n",
      "\n",
      "[Server] 🔄 Round 2 - Client Training Metrics:\n",
      "  Client f1c09f2d730c479689f66f24dd922fbc: {'train_auc': 0.5, 'hostname': 'dinf-medomi-05b', 'train_loss': 0.7372328294648065, 'train_accuracy': 0.3333333333333333}\n",
      "  Client 0eba60b3351e4a85bd2bd7362f31dc53: {'train_auc': 0.5, 'hostname': 'dinf-medomi-05b', 'train_loss': 0.7377942601839701, 'train_accuracy': 0.3333333333333333}\n",
      "[Server] ✅ Round 2 - Aggregated Training Metrics: {'train_loss': 0.7375135448243882, 'train_accuracy': 0.3333333333333333, 'train_auc': 0.5}\n",
      "\n"
     ]
    },
    {
     "name": "stderr",
     "output_type": "stream",
     "text": [
      "\u001b[92mINFO \u001b[0m:      aggregate_evaluate: received 2 results and 0 failures\n",
      "\u001b[92mINFO \u001b[0m:      \n",
      "\u001b[92mINFO \u001b[0m:      [ROUND 3]\n",
      "\u001b[92mINFO \u001b[0m:      configure_fit: strategy sampled 2 clients (out of 2)\n",
      "\u001b[92mINFO \u001b[0m:      aggregate_fit: received 2 results and 0 failures\n",
      "\u001b[92mINFO \u001b[0m:      configure_evaluate: strategy sampled 2 clients (out of 2)\n",
      "\u001b[92mINFO \u001b[0m:      aggregate_evaluate: received 2 results and 0 failures\n",
      "\u001b[92mINFO \u001b[0m:      \n",
      "\u001b[92mINFO \u001b[0m:      [ROUND 4]\n",
      "\u001b[92mINFO \u001b[0m:      configure_fit: strategy sampled 2 clients (out of 2)\n",
      "\u001b[92mINFO \u001b[0m:      aggregate_fit: received 2 results and 0 failures\n",
      "\u001b[92mINFO \u001b[0m:      configure_evaluate: strategy sampled 2 clients (out of 2)\n"
     ]
    },
    {
     "name": "stdout",
     "output_type": "stream",
     "text": [
      "\n",
      "[Server] 📊 Round 2 - Client Evaluation Metrics:\n",
      "  Client f1c09f2d730c479689f66f24dd922fbc: {'eval_auc': 0.5, 'eval_accuracy': 0.3333333333333333, 'eval_loss': 0.7241071890901636}\n",
      "  Client 0eba60b3351e4a85bd2bd7362f31dc53: {'eval_auc': 0.5, 'eval_accuracy': 0.3333333333333333, 'eval_loss': 0.7241071846750048}\n",
      "[Server] ✅ Round 2 - Aggregated Evaluation Metrics:\n",
      "  Loss: 0.7241072058677673, Metrics: {'eval_loss': 0.7241071868825841, 'eval_accuracy': 0.3333333333333333, 'eval_auc': 0.5}\n",
      "\n",
      "\n",
      "[Server] 🔄 Round 3 - Client Training Metrics:\n",
      "  Client f1c09f2d730c479689f66f24dd922fbc: {'train_auc': 0.5, 'hostname': 'dinf-medomi-05b', 'train_loss': 0.7141993805214211, 'train_accuracy': 0.3333333333333333}\n",
      "  Client 0eba60b3351e4a85bd2bd7362f31dc53: {'train_auc': 0.5, 'hostname': 'dinf-medomi-05b', 'train_loss': 0.7144973384009468, 'train_accuracy': 0.3333333333333333}\n",
      "[Server] ✅ Round 3 - Aggregated Training Metrics: {'train_loss': 0.7143483594611839, 'train_accuracy': 0.3333333333333333, 'train_auc': 0.5}\n",
      "\n",
      "\n",
      "[Server] 📊 Round 3 - Client Evaluation Metrics:\n",
      "  Client 0eba60b3351e4a85bd2bd7362f31dc53: {'eval_auc': 0.5, 'eval_accuracy': 0.3333333333333333, 'eval_loss': 0.7031981516767432}\n",
      "  Client f1c09f2d730c479689f66f24dd922fbc: {'eval_auc': 0.5, 'eval_accuracy': 0.3333333333333333, 'eval_loss': 0.7031981454955207}\n",
      "[Server] ✅ Round 3 - Aggregated Evaluation Metrics:\n",
      "  Loss: 0.7031981348991394, Metrics: {'eval_loss': 0.7031981485861319, 'eval_accuracy': 0.3333333333333333, 'eval_auc': 0.5}\n",
      "\n",
      "\n",
      "[Server] 🔄 Round 4 - Client Training Metrics:\n",
      "  Client f1c09f2d730c479689f66f24dd922fbc: {'train_auc': 0.5, 'hostname': 'dinf-medomi-05b', 'train_loss': 0.6939316047562494, 'train_accuracy': 0.3333333333333333}\n",
      "  Client 0eba60b3351e4a85bd2bd7362f31dc53: {'train_auc': 0.5, 'hostname': 'dinf-medomi-05b', 'train_loss': 0.6940057277679443, 'train_accuracy': 0.3333333333333333}\n",
      "[Server] ✅ Round 4 - Aggregated Training Metrics: {'train_loss': 0.6939686662620969, 'train_accuracy': 0.3333333333333333, 'train_auc': 0.5}\n",
      "\n"
     ]
    },
    {
     "name": "stderr",
     "output_type": "stream",
     "text": [
      "\u001b[92mINFO \u001b[0m:      aggregate_evaluate: received 2 results and 0 failures\n",
      "\u001b[92mINFO \u001b[0m:      \n",
      "\u001b[92mINFO \u001b[0m:      [ROUND 5]\n",
      "\u001b[92mINFO \u001b[0m:      configure_fit: strategy sampled 2 clients (out of 2)\n",
      "\u001b[92mINFO \u001b[0m:      aggregate_fit: received 2 results and 0 failures\n",
      "\u001b[92mINFO \u001b[0m:      configure_evaluate: strategy sampled 2 clients (out of 2)\n",
      "\u001b[92mINFO \u001b[0m:      aggregate_evaluate: received 2 results and 0 failures\n",
      "\u001b[92mINFO \u001b[0m:      \n",
      "\u001b[92mINFO \u001b[0m:      [SUMMARY]\n",
      "\u001b[92mINFO \u001b[0m:      Run finished 5 round(s) in 2.75s\n",
      "\u001b[92mINFO \u001b[0m:      \tHistory (loss, distributed):\n",
      "\u001b[92mINFO \u001b[0m:      \t\tround 1: 0.7523354291915894\n",
      "\u001b[92mINFO \u001b[0m:      \t\tround 2: 0.7241072058677673\n",
      "\u001b[92mINFO \u001b[0m:      \t\tround 3: 0.7031981348991394\n",
      "\u001b[92mINFO \u001b[0m:      \t\tround 4: 0.6834290027618408\n",
      "\u001b[92mINFO \u001b[0m:      \t\tround 5: 0.6646822094917297\n",
      "\u001b[92mINFO \u001b[0m:      \tHistory (metrics, distributed, fit):\n",
      "\u001b[92mINFO \u001b[0m:      \t{'train_accuracy': [(1, 0.3333333333333333),\n",
      "\u001b[92mINFO \u001b[0m:      \t                    (2, 0.3333333333333333),\n",
      "\u001b[92mINFO \u001b[0m:      \t                    (3, 0.3333333333333333),\n",
      "\u001b[92mINFO \u001b[0m:      \t                    (4, 0.3333333333333333),\n",
      "\u001b[92mINFO \u001b[0m:      \t                    (5, 0.6666666666666666)],\n",
      "\u001b[92mINFO \u001b[0m:      \t 'train_auc': [(1, 0.5), (2, 0.5), (3, 0.5), (4, 0.5), (5, 0.5)],\n",
      "\u001b[92mINFO \u001b[0m:      \t 'train_loss': [(1, 0.8164191076049099),\n",
      "\u001b[92mINFO \u001b[0m:      \t                (2, 0.7375135448243882),\n",
      "\u001b[92mINFO \u001b[0m:      \t                (3, 0.7143483594611839),\n",
      "\u001b[92mINFO \u001b[0m:      \t                (4, 0.6939686662620969),\n",
      "\u001b[92mINFO \u001b[0m:      \t                (5, 0.6747281118675514)]}\n",
      "\u001b[92mINFO \u001b[0m:      \tHistory (metrics, distributed, evaluate):\n",
      "\u001b[92mINFO \u001b[0m:      \t{'eval_accuracy': [(1, 0.3333333333333333),\n",
      "\u001b[92mINFO \u001b[0m:      \t                   (2, 0.3333333333333333),\n",
      "\u001b[92mINFO \u001b[0m:      \t                   (3, 0.3333333333333333),\n",
      "\u001b[92mINFO \u001b[0m:      \t                   (4, 0.3333333333333333),\n",
      "\u001b[92mINFO \u001b[0m:      \t                   (5, 0.6666666666666666)],\n",
      "\u001b[92mINFO \u001b[0m:      \t 'eval_auc': [(1, 0.5), (2, 0.5), (3, 0.5), (4, 0.5), (5, 0.5)],\n",
      "\u001b[92mINFO \u001b[0m:      \t 'eval_loss': [(1, 0.7523354121932277),\n",
      "\u001b[92mINFO \u001b[0m:      \t               (2, 0.7241071868825841),\n",
      "\u001b[92mINFO \u001b[0m:      \t               (3, 0.7031981485861319),\n",
      "\u001b[92mINFO \u001b[0m:      \t               (4, 0.6834290023203249),\n",
      "\u001b[92mINFO \u001b[0m:      \t               (5, 0.6646822035312653)]}\n",
      "\u001b[92mINFO \u001b[0m:      \n"
     ]
    },
    {
     "name": "stdout",
     "output_type": "stream",
     "text": [
      "\n",
      "[Server] 📊 Round 4 - Client Evaluation Metrics:\n",
      "  Client 0eba60b3351e4a85bd2bd7362f31dc53: {'eval_auc': 0.5, 'eval_accuracy': 0.3333333333333333, 'eval_loss': 0.6834290014372931}\n",
      "  Client f1c09f2d730c479689f66f24dd922fbc: {'eval_auc': 0.5, 'eval_accuracy': 0.3333333333333333, 'eval_loss': 0.6834290032033568}\n",
      "[Server] ✅ Round 4 - Aggregated Evaluation Metrics:\n",
      "  Loss: 0.6834290027618408, Metrics: {'eval_loss': 0.6834290023203249, 'eval_accuracy': 0.3333333333333333, 'eval_auc': 0.5}\n",
      "\n",
      "\n",
      "[Server] 🔄 Round 5 - Client Training Metrics:\n",
      "  Client f1c09f2d730c479689f66f24dd922fbc: {'train_auc': 0.5, 'hostname': 'dinf-medomi-05b', 'train_loss': 0.6746364889321503, 'train_accuracy': 0.6666666666666666}\n",
      "  Client 0eba60b3351e4a85bd2bd7362f31dc53: {'train_auc': 0.5, 'hostname': 'dinf-medomi-05b', 'train_loss': 0.6748197348029525, 'train_accuracy': 0.6666666666666666}\n",
      "[Server] ✅ Round 5 - Aggregated Training Metrics: {'train_loss': 0.6747281118675514, 'train_accuracy': 0.6666666666666666, 'train_auc': 0.5}\n",
      "\n",
      "\n",
      "[Server] 📊 Round 5 - Client Evaluation Metrics:\n",
      "  Client f1c09f2d730c479689f66f24dd922fbc: {'eval_auc': 0.5, 'eval_accuracy': 0.6666666666666666, 'eval_loss': 0.6646822064011185}\n",
      "  Client 0eba60b3351e4a85bd2bd7362f31dc53: {'eval_auc': 0.5, 'eval_accuracy': 0.6666666666666666, 'eval_loss': 0.664682200661412}\n",
      "[Server] ✅ Round 5 - Aggregated Evaluation Metrics:\n",
      "  Loss: 0.6646822094917297, Metrics: {'eval_loss': 0.6646822035312653, 'eval_accuracy': 0.6666666666666666, 'eval_auc': 0.5}\n",
      "\n"
     ]
    }
   ],
   "source": [
    "from MEDfl.rw.server import FederatedServer, Strategy\n",
    "\n",
    "\n",
    "custom_strategy = Strategy(\n",
    "name=\"FedAvg\",\n",
    "fraction_fit=0.5,\n",
    "min_fit_clients=2,\n",
    "min_evaluate_clients=2,\n",
    "min_available_clients=2\n",
    ")\n",
    "\n",
    "\n",
    "server = FederatedServer(\n",
    "    host=\"0.0.0.0\",\n",
    "    port=8080,\n",
    "    num_rounds=5,\n",
    "    strategy=custom_strategy,\n",
    ")\n",
    "server.start()"
   ]
  },
  {
   "cell_type": "code",
   "execution_count": null,
   "id": "36841665",
   "metadata": {},
   "outputs": [],
   "source": []
  }
 ],
 "metadata": {
  "kernelspec": {
   "display_name": "fl-env",
   "language": "python",
   "name": "python3"
  },
  "language_info": {
   "codemirror_mode": {
    "name": "ipython",
    "version": 3
   },
   "file_extension": ".py",
   "mimetype": "text/x-python",
   "name": "python",
   "nbconvert_exporter": "python",
   "pygments_lexer": "ipython3",
   "version": "3.12.3"
  }
 },
 "nbformat": 4,
 "nbformat_minor": 5
}
